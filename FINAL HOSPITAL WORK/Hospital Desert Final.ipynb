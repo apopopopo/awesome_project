{
 "cells": [
  {
   "cell_type": "markdown",
   "metadata": {},
   "source": [
    "# Analysis:"
   ]
  },
  {
   "cell_type": "code",
   "execution_count": 44,
   "metadata": {},
   "outputs": [
    {
     "name": "stdout",
     "output_type": "stream",
     "text": [
      "/Users/yuh13/Desktop/code/awesome_project/FINAL HOSPITAL WORK\r\n"
     ]
    }
   ],
   "source": [
    "!pwd"
   ]
  },
  {
   "cell_type": "markdown",
   "metadata": {},
   "source": [
    "### 1) Creating Main Data Set for Analysis"
   ]
  },
  {
   "cell_type": "code",
   "execution_count": 45,
   "metadata": {},
   "outputs": [
    {
     "data": {
      "text/html": [
       "<script>requirejs.config({paths: { 'plotly': ['https://cdn.plot.ly/plotly-latest.min']},});if(!window.Plotly) {{require(['plotly'],function(plotly) {window.Plotly=plotly;});}}</script>"
      ],
      "text/vnd.plotly.v1+html": [
       "<script>requirejs.config({paths: { 'plotly': ['https://cdn.plot.ly/plotly-latest.min']},});if(!window.Plotly) {{require(['plotly'],function(plotly) {window.Plotly=plotly;});}}</script>"
      ]
     },
     "metadata": {},
     "output_type": "display_data"
    }
   ],
   "source": [
    "#Import dependencies and raw data files\n",
    "import pandas as pd\n",
    "import numpy as np\n",
    "import matplotlib.pyplot as plt\n",
    "import seaborn as sns\n",
    "import requests\n",
    "import json\n",
    "import ipywidgets as widgets\n",
    "from IPython.display import display\n",
    "from bokeh.io import output_notebook, push_notebook\n",
    "from bokeh.plotting import figure, show, ColumnDataSource\n",
    "from bokeh.models import HoverTool,PanTool,WheelZoomTool,BoxZoomTool,ResetTool,UndoTool,RedoTool, Range1d\n",
    "# import plotly as py\n",
    "import plotly as py\n",
    "import plotly.tools as tls\n",
    "from plotly import __version__\n",
    "from plotly.offline import download_plotlyjs, init_notebook_mode, plot, iplot\n",
    "import plotly.graph_objs as go\n",
    "import folium\n",
    "# from config import gkey\n",
    "\n",
    "\n",
    "py.offline.init_notebook_mode(connected=True)\n",
    "\n",
    "\n",
    "#Read raw data sets\n",
    "data1 = pd.read_csv(\"Inpatient_Prospective_Payment_System.csv\",encoding='mac_roman') #core raw data set\n",
    "data2 = pd.read_csv(\"bedsLatLong.csv\",encoding='mac_roman') #grabbing bed count only\n",
    "data3 = pd.read_csv(\"ratingsAndOwnership.csv\",encoding='mac_roman') #grabbing ratings and ownership type only\n"
   ]
  },
  {
   "cell_type": "code",
   "execution_count": 46,
   "metadata": {
    "collapsed": true
   },
   "outputs": [],
   "source": [
    "#Core data set, grabbing keys of interest\n",
    "data1 = data1[['Provider Id', 'Provider Name', 'Provider Street Address', \n",
    "               'Provider City', 'Provider State', 'Provider Zip Code',     \n",
    "               ' Average Total Payments ', 'Average Medicare Payments', ' Average Covered Charges ']]\n",
    "\n",
    "#Beds data set, grabbing keys of interest\n",
    "data2 = data2[[ 'ID', 'NAME',  'BEDS']]\n",
    "data2 = data2.rename(columns={'ID': 'Provider Id', 'NAME':'Provider Name'})\n",
    "\n",
    "#Ratings and Ownership dataset, grabbing keys of interest\n",
    "data3 = data3[['Provider ID', 'Hospital Type', 'Hospital Ownership',\n",
    "       'Hospital overall rating']]\n",
    "data3 = data3.rename(columns={'Provider ID': 'Provider Id'})\n"
   ]
  },
  {
   "cell_type": "code",
   "execution_count": 47,
   "metadata": {
    "collapsed": true,
    "scrolled": false
   },
   "outputs": [],
   "source": [
    "#Merging datasets by Provider Id and Provider Name\n",
    "main = pd.merge(data1,data3, on = 'Provider Id', how = 'outer')\n",
    "main = pd.merge(main,data2, on = 'Provider Name', how = 'outer')"
   ]
  },
  {
   "cell_type": "code",
   "execution_count": 48,
   "metadata": {
    "collapsed": true
   },
   "outputs": [],
   "source": [
    "#Removing duplicate keys for Provider Id and renaming\n",
    "main = main[['Provider Id_x', 'Provider Name', 'Provider Street Address',\n",
    "       'Provider City', 'Provider State', 'Provider Zip Code',\n",
    "        ' Average Covered Charges ',' Average Total Payments ', \n",
    "        'Average Medicare Payments','Hospital Type', 'Hospital Ownership', \n",
    "        'Hospital overall rating', 'BEDS']]\n",
    "main = main.rename(columns={'Provider Id_x': 'Provider Id'})"
   ]
  },
  {
   "cell_type": "code",
   "execution_count": 49,
   "metadata": {
    "collapsed": true
   },
   "outputs": [],
   "source": [
    "#grouping catagory into Hospital ownership: Voluntary(non-profit), Government, Individual business\n",
    "main[\"Hospital Ownership\"] = main[\"Hospital Ownership\"].replace({\n",
    "    \n",
    "    'Voluntary non-profit - Private':'Voluntary(non-profit)',\n",
    "    'Voluntary non-profit - Church':'Voluntary(non-profit)',\n",
    "    'Voluntary non-profit - Other':'Voluntary(non-profit)', \n",
    "    \n",
    "    'Government - Hospital District or Authority': 'Government',\n",
    "    'Government - State': 'Government',\n",
    "    'Government - Local': 'Government',\n",
    "    'Government - Federal': 'Government',\n",
    "    \n",
    "    'Proprietary': 'Individual Business',\n",
    "     'Physician': 'Individual Business'})"
   ]
  },
  {
   "cell_type": "code",
   "execution_count": 50,
   "metadata": {
    "scrolled": false
   },
   "outputs": [
    {
     "name": "stdout",
     "output_type": "stream",
     "text": [
      "<class 'pandas.core.frame.DataFrame'>\n",
      "Int64Index: 122360 entries, 0 to 184196\n",
      "Data columns (total 13 columns):\n",
      "Provider Id                  122360 non-null float64\n",
      "Provider Name                122360 non-null object\n",
      "Provider Street Address      122360 non-null object\n",
      "Provider City                122360 non-null object\n",
      "Provider State               122360 non-null object\n",
      "Provider Zip Code            122360 non-null float64\n",
      " Average Covered Charges     122360 non-null object\n",
      " Average Total Payments      122360 non-null object\n",
      "Average Medicare Payments    122360 non-null object\n",
      "Hospital Type                122360 non-null object\n",
      "Hospital Ownership           122360 non-null object\n",
      "Hospital overall rating      122360 non-null object\n",
      "BEDS                         122360 non-null float64\n",
      "dtypes: float64(3), object(10)\n",
      "memory usage: 13.1+ MB\n"
     ]
    }
   ],
   "source": [
    "#Cleaning by droping redundant rows and rows with empty fields\n",
    "main= main.drop_duplicates()\n",
    "main = main.dropna(how = \"any\") \n",
    "main = main[main['Hospital overall rating'] != \"Not Available\"]\n",
    "main.info()"
   ]
  },
  {
   "cell_type": "code",
   "execution_count": 51,
   "metadata": {
    "collapsed": true,
    "scrolled": true
   },
   "outputs": [],
   "source": [
    "#Converting payment strings to floats\n",
    "main[' Average Total Payments '] = main[' Average Total Payments '].str.split('$').apply(lambda x: x[-1])\n",
    "main['Average Medicare Payments'] = main['Average Medicare Payments'].str.split('$').apply(lambda x: x[-1])\n",
    "main[' Average Covered Charges '] = main[' Average Covered Charges '].str.split('$').apply(lambda x: x[-1])\n",
    "main[' Average Total Payments '] = pd.to_numeric(main[' Average Total Payments '])\n",
    "main['Average Medicare Payments'] = pd.to_numeric(main['Average Medicare Payments'])\n",
    "main[' Average Covered Charges '] = pd.to_numeric(main[' Average Covered Charges '])\n",
    "main['Hospital overall rating'] = pd.to_numeric(main['Hospital overall rating'])\n",
    "\n",
    "main['Provider Id'] = main['Provider Id'].astype(np.int64)\n"
   ]
  },
  {
   "cell_type": "code",
   "execution_count": 52,
   "metadata": {
    "collapsed": true,
    "scrolled": false
   },
   "outputs": [],
   "source": [
    "#Adding a new \"Cost\" key\n",
    "main['Cost'] = main[' Average Total Payments '] - main['Average Medicare Payments']"
   ]
  },
  {
   "cell_type": "code",
   "execution_count": 53,
   "metadata": {},
   "outputs": [
    {
     "name": "stdout",
     "output_type": "stream",
     "text": [
      "(122360, 14)\n"
     ]
    },
    {
     "data": {
      "text/html": [
       "<div>\n",
       "<style>\n",
       "    .dataframe thead tr:only-child th {\n",
       "        text-align: right;\n",
       "    }\n",
       "\n",
       "    .dataframe thead th {\n",
       "        text-align: left;\n",
       "    }\n",
       "\n",
       "    .dataframe tbody tr th {\n",
       "        vertical-align: top;\n",
       "    }\n",
       "</style>\n",
       "<table border=\"1\" class=\"dataframe\">\n",
       "  <thead>\n",
       "    <tr style=\"text-align: right;\">\n",
       "      <th></th>\n",
       "      <th>Provider Id</th>\n",
       "      <th>Provider Name</th>\n",
       "      <th>Provider Street Address</th>\n",
       "      <th>Provider City</th>\n",
       "      <th>Provider State</th>\n",
       "      <th>Provider Zip Code</th>\n",
       "      <th>Average Covered Charges</th>\n",
       "      <th>Average Total Payments</th>\n",
       "      <th>Average Medicare Payments</th>\n",
       "      <th>Hospital Type</th>\n",
       "      <th>Hospital Ownership</th>\n",
       "      <th>Hospital overall rating</th>\n",
       "      <th>BEDS</th>\n",
       "      <th>Cost</th>\n",
       "    </tr>\n",
       "  </thead>\n",
       "  <tbody>\n",
       "    <tr>\n",
       "      <th>0</th>\n",
       "      <td>10001</td>\n",
       "      <td>SOUTHEAST ALABAMA MEDICAL CENTER</td>\n",
       "      <td>1108 ROSS CLARK CIRCLE</td>\n",
       "      <td>DOTHAN</td>\n",
       "      <td>AL</td>\n",
       "      <td>36301.0</td>\n",
       "      <td>32963.07</td>\n",
       "      <td>5777.24</td>\n",
       "      <td>4763.73</td>\n",
       "      <td>Acute Care Hospitals</td>\n",
       "      <td>Government</td>\n",
       "      <td>3</td>\n",
       "      <td>420.0</td>\n",
       "      <td>1013.51</td>\n",
       "    </tr>\n",
       "    <tr>\n",
       "      <th>1</th>\n",
       "      <td>10001</td>\n",
       "      <td>SOUTHEAST ALABAMA MEDICAL CENTER</td>\n",
       "      <td>1108 ROSS CLARK CIRCLE</td>\n",
       "      <td>DOTHAN</td>\n",
       "      <td>AL</td>\n",
       "      <td>36301.0</td>\n",
       "      <td>20312.78</td>\n",
       "      <td>4894.76</td>\n",
       "      <td>3865.50</td>\n",
       "      <td>Acute Care Hospitals</td>\n",
       "      <td>Government</td>\n",
       "      <td>3</td>\n",
       "      <td>420.0</td>\n",
       "      <td>1029.26</td>\n",
       "    </tr>\n",
       "    <tr>\n",
       "      <th>2</th>\n",
       "      <td>10001</td>\n",
       "      <td>SOUTHEAST ALABAMA MEDICAL CENTER</td>\n",
       "      <td>1108 ROSS CLARK CIRCLE</td>\n",
       "      <td>DOTHAN</td>\n",
       "      <td>AL</td>\n",
       "      <td>36301.0</td>\n",
       "      <td>38820.39</td>\n",
       "      <td>10260.21</td>\n",
       "      <td>9167.08</td>\n",
       "      <td>Acute Care Hospitals</td>\n",
       "      <td>Government</td>\n",
       "      <td>3</td>\n",
       "      <td>420.0</td>\n",
       "      <td>1093.13</td>\n",
       "    </tr>\n",
       "  </tbody>\n",
       "</table>\n",
       "</div>"
      ],
      "text/plain": [
       "   Provider Id                     Provider Name Provider Street Address  \\\n",
       "0        10001  SOUTHEAST ALABAMA MEDICAL CENTER  1108 ROSS CLARK CIRCLE   \n",
       "1        10001  SOUTHEAST ALABAMA MEDICAL CENTER  1108 ROSS CLARK CIRCLE   \n",
       "2        10001  SOUTHEAST ALABAMA MEDICAL CENTER  1108 ROSS CLARK CIRCLE   \n",
       "\n",
       "  Provider City Provider State  Provider Zip Code   Average Covered Charges   \\\n",
       "0        DOTHAN             AL            36301.0                   32963.07   \n",
       "1        DOTHAN             AL            36301.0                   20312.78   \n",
       "2        DOTHAN             AL            36301.0                   38820.39   \n",
       "\n",
       "    Average Total Payments   Average Medicare Payments         Hospital Type  \\\n",
       "0                   5777.24                    4763.73  Acute Care Hospitals   \n",
       "1                   4894.76                    3865.50  Acute Care Hospitals   \n",
       "2                  10260.21                    9167.08  Acute Care Hospitals   \n",
       "\n",
       "  Hospital Ownership  Hospital overall rating   BEDS     Cost  \n",
       "0         Government                        3  420.0  1013.51  \n",
       "1         Government                        3  420.0  1029.26  \n",
       "2         Government                        3  420.0  1093.13  "
      ]
     },
     "execution_count": 53,
     "metadata": {},
     "output_type": "execute_result"
    }
   ],
   "source": [
    "#Main Dataframe\n",
    "print(main.shape)\n",
    "main.to_csv(\"main_data.csv\")\n",
    "main.head(3)"
   ]
  },
  {
   "cell_type": "markdown",
   "metadata": {},
   "source": [
    "### Create dataset that averages all charges by each Hospital"
   ]
  },
  {
   "cell_type": "code",
   "execution_count": 54,
   "metadata": {
    "collapsed": true
   },
   "outputs": [],
   "source": [
    "#Create subset of keys\n",
    "main_less = main.drop([' Average Covered Charges ', ' Average Total Payments ', 'Average Medicare Payments', 'Cost', 'Provider Zip Code', 'BEDS', 'Hospital overall rating'], axis=1)"
   ]
  },
  {
   "cell_type": "code",
   "execution_count": 55,
   "metadata": {
    "scrolled": true
   },
   "outputs": [
    {
     "name": "stdout",
     "output_type": "stream",
     "text": [
      "122360\n",
      "1983\n"
     ]
    }
   ],
   "source": [
    "#Group all providers to average all charges/costs irrespective of treatment charges\n",
    "main_mean = main.groupby('Provider Id').mean()\n",
    "main_mean = pd.DataFrame(main_mean).reset_index(inplace=False)\n",
    "#Merge averaged costs with 'main_data' and drop all duplicates\n",
    "main_mean = main_mean.merge(main_less, on='Provider Id', how='inner', copy=False)\n",
    "print(len(main_mean))\n",
    "main_mean = main_mean.drop_duplicates(keep = 'first').reset_index(inplace=False)\n",
    "main_mean = main_mean.drop(['index'], axis=1)\n",
    "print(len(main_mean))"
   ]
  },
  {
   "cell_type": "markdown",
   "metadata": {},
   "source": [
    "### Perform Google API: Geocode search to populate latitude and longitude for each hospital\n",
    "##### Do not uncomment unless you want to re-run API calls"
   ]
  },
  {
   "cell_type": "code",
   "execution_count": 56,
   "metadata": {
    "collapsed": true
   },
   "outputs": [],
   "source": [
    "# #Join address and city and state\n",
    "# address = []\n",
    "\n",
    "# def get_address(index):\n",
    "#     target = main_mean['Provider Street Address'][index] + \", \" + main_mean['Provider City'][index] + \", \" + main_mean['Provider State'][index]\n",
    "#     return target\n",
    "# for i in range(len(main_mean)):\n",
    "#     address.append(get_address(i))"
   ]
  },
  {
   "cell_type": "code",
   "execution_count": 57,
   "metadata": {},
   "outputs": [],
   "source": [
    "# lat = []\n",
    "# lng = []\n",
    "# counter = 0\n",
    "\n",
    "# #Return json response\n",
    "# for target_address in address:\n",
    "#     params = {\"address\": target_address, \"key\": gkey}\n",
    "#     base_url = \"https://maps.googleapis.com/maps/api/geocode/json\"\n",
    "#     response = requests.get(base_url, params=params).json()\n",
    "#     #traverse response to find lon/lat\n",
    "#     try:\n",
    "#         lat.append(response['results'][0]['geometry']['location']['lat'])\n",
    "#         lng.append(response['results'][0]['geometry']['location']['lng'])\n",
    "#     except Exception:\n",
    "#         lat.append(0)\n",
    "#         lng.append(0)\n",
    "#     counter = counter + 1\n",
    "#     print(f'{counter} of {len(main_mean)} completed')\n"
   ]
  },
  {
   "cell_type": "code",
   "execution_count": 58,
   "metadata": {},
   "outputs": [],
   "source": [
    "# #Add new values to main_mean\n",
    "# main_mean['Location'] = address\n",
    "# main_mean['Latitude'] = lat\n",
    "# main_mean['Longitude'] = lng\n",
    "# main_mean = main_mean[main_mean['Longitude'] != 0]\n",
    "# main_mean.to_csv('main_mean.csv')\n",
    "# print(len(main_mean))\n",
    "# main_mean.head(2)"
   ]
  },
  {
   "cell_type": "code",
   "execution_count": 59,
   "metadata": {},
   "outputs": [],
   "source": [
    "main_mean = pd.read_csv('main_mean.csv')"
   ]
  },
  {
   "cell_type": "markdown",
   "metadata": {},
   "source": [
    "### Harry's USA Map: Avg Cost by Hospitals in US"
   ]
  },
  {
   "cell_type": "code",
   "execution_count": 60,
   "metadata": {
    "collapsed": true
   },
   "outputs": [],
   "source": [
    "#input into plotly by scattergeo\n",
    "data = [dict(type=\"scattergeo\", locationmode=\"USA-states\", text = main_mean['Provider Name'] + main_mean['Provider Street Address'], lon = main_mean['Longitude'], lat = main_mean['Latitude'], \n",
    "             marker = dict(size=4, autocolorscale=False, colorscale='Portland',\n",
    "            color = main_mean[' Average Covered Charges '], colorbar = dict(title = 'Avg Cost ($)')))]"
   ]
  },
  {
   "cell_type": "code",
   "execution_count": 61,
   "metadata": {
    "collapsed": true
   },
   "outputs": [],
   "source": [
    "layout = dict(title=\"Avg Cost by Hospitals in US\",\n",
    "              geo = dict(scope='usa',projection = dict(type='albers usa'), \n",
    "                         showland=True, landcolor=\"rgb(250,250,250)\"))"
   ]
  },
  {
   "cell_type": "code",
   "execution_count": 62,
   "metadata": {},
   "outputs": [
    {
     "data": {
      "text/html": [
       "<iframe id=\"igraph\" scrolling=\"no\" style=\"border:none;\" seamless=\"seamless\" src=\"https://plot.ly/~yuh13/64.embed\" height=\"525px\" width=\"100%\"></iframe>"
      ],
      "text/plain": [
       "<plotly.tools.PlotlyDisplay object>"
      ]
     },
     "execution_count": 62,
     "metadata": {},
     "output_type": "execute_result"
    }
   ],
   "source": [
    "fig = dict(data=data, layout=layout)\n",
    "py.plotly.image.save_as(fig,filename='USA_map_avg_cost.png')\n",
    "py.plotly.iplot(fig)\n"
   ]
  },
  {
   "cell_type": "markdown",
   "metadata": {},
   "source": [
    "### Starting Nami's App for State analysis"
   ]
  },
  {
   "cell_type": "code",
   "execution_count": 63,
   "metadata": {
    "collapsed": true
   },
   "outputs": [],
   "source": [
    "def checkDF(df):\n",
    "    requirements = ['Provider State', 'Cost', 'BEDS', 'Provider Name']\n",
    "    errorFlag = False\n",
    "    for req in requirements:\n",
    "        if not req in df:\n",
    "            print(f'DF structure error: dataframe must include \"{req}\". please confirm your dataframe:-(')\n",
    "            errorFlag = True\n",
    "            break\n",
    "    if not errorFlag:\n",
    "        print('Checks out!')\n",
    "        return df"
   ]
  },
  {
   "cell_type": "code",
   "execution_count": null,
   "metadata": {},
   "outputs": [
    {
     "name": "stdout",
     "output_type": "stream",
     "text": [
      "Checks out!\n"
     ]
    },
    {
     "data": {
      "text/plain": [
       "Index(['Unnamed: 0', 'Provider Id', 'Provider Zip Code',\n",
       "       ' Average Covered Charges ', ' Average Total Payments ',\n",
       "       'Average Medicare Payments', 'Hospital overall rating', 'BEDS', 'Cost',\n",
       "       'Provider Name', 'Provider Street Address', 'Provider City',\n",
       "       'Provider State', 'Hospital Type', 'Hospital Ownership', 'Location',\n",
       "       'Latitude', 'Longitude'],\n",
       "      dtype='object')"
      ]
     },
     "execution_count": 64,
     "metadata": {},
     "output_type": "execute_result"
    }
   ],
   "source": [
    "df = checkDF(main_mean)\n",
    "df.columns"
   ]
  },
  {
   "cell_type": "code",
   "execution_count": null,
   "metadata": {
    "scrolled": false
   },
   "outputs": [],
   "source": [
    "states = df.groupby('Provider State').mean().sort_values(by=['Cost'], ascending=False).index\n",
    "sns.barplot(x='Provider State', y='Cost', data=df, order=states)\n",
    "sns.set(rc={'figure.figsize':(100,75)}, font_scale=7)\n",
    "plt.savefig('state_cost.png')\n",
    "plt.show()"
   ]
  },
  {
   "cell_type": "markdown",
   "metadata": {},
   "source": [
    "### Pierre's Bar Chart: State and Ratings"
   ]
  },
  {
   "cell_type": "code",
   "execution_count": null,
   "metadata": {
    "scrolled": false
   },
   "outputs": [],
   "source": [
    "states = df.groupby('Provider State').mean().sort_values(by=['Hospital overall rating'], ascending=False).index\n",
    "sns.barplot(x='Provider State', y='Hospital overall rating', data=df, order=states)\n",
    "sns.set(rc={'figure.figsize':(100,75)}, font_scale=7)\n",
    "plt.savefig('state_rating.png')\n",
    "plt.show()"
   ]
  },
  {
   "cell_type": "code",
   "execution_count": null,
   "metadata": {
    "collapsed": true
   },
   "outputs": [],
   "source": [
    "# Load the shape of the zone (US states)\n",
    "# Find the original file here: https://github.com/python-visualization/folium/tree/master/examples/data\n",
    "state_geo = 'us-states.json'\n",
    " \n",
    "df2 = df[df['BEDS']>0]\n",
    "\n",
    "# Load the values of each state\n",
    "state_data = pd.DataFrame()\n",
    "state_data['State'] = list(df2.groupby('Provider State').mean().index)\n",
    "state_data['Cost'] = list(df2.groupby('Provider State').mean()['Cost'])\n",
    "state_data['HospitalCounts'] = list(df2.groupby('Provider State').count()['Cost'])\n",
    "state_data['Rating'] = list(df2.groupby('Provider State').mean()['Hospital overall rating'])\n",
    "state_data['BedCounts'] = list(df2.groupby('Provider State').mean()['BEDS'])\n",
    "# state_data\n",
    "# threshold_scale = split_six(state_data['Cost'])\n",
    "colors = ['#1a9850', '#91cf60', '#fc8d59', '#d9ef8b', '#ffffbf','#fee08b']\n",
    "\n"
   ]
  },
  {
   "cell_type": "code",
   "execution_count": null,
   "metadata": {},
   "outputs": [],
   "source": [
    "### Choropleth US Map for Hospital Costs\n",
    "# Initialize the map:\n",
    "m = folium.Map(location=[37, -102], zoom_start=5)\n",
    "# step = folium.StepColormap(colors, vmin=921, vmax=2022, index=[921, 1105, 1288, 1472, 1655,1838,2022])\n",
    "# step = folium.StepColormap(colors)\n",
    "\n",
    "# Add the color for the chloropleth:\n",
    "m.choropleth(\n",
    " geo_data=state_geo,\n",
    " name='choropleth',\n",
    " data=state_data,\n",
    " columns=['State', 'Cost'],\n",
    " key_on='feature.id',\n",
    " fill_color='RdYlGn',\n",
    " fill_opacity=0.7,\n",
    " line_opacity=0.2,\n",
    " legend_name='Cost ($)'\n",
    ")\n",
    "folium.LayerControl().add_to(m)\n",
    "\n",
    "m"
   ]
  },
  {
   "cell_type": "code",
   "execution_count": null,
   "metadata": {
    "scrolled": false
   },
   "outputs": [],
   "source": [
    "### Choropleth US Map for Hospital Count\n",
    "# Initialize the map:\n",
    "m = folium.Map(location=[37, -102], zoom_start=5)\n",
    "\n",
    "# Add the color for the chloropleth:\n",
    "m.choropleth(\n",
    " geo_data=state_geo,\n",
    " name='choropleth',\n",
    " data=state_data,\n",
    " columns=['State', 'HospitalCounts'],\n",
    " key_on='feature.id',\n",
    " fill_color='RdYlGn',\n",
    " fill_opacity=0.7,\n",
    " line_opacity=0.2,\n",
    " legend_name='Hospital Count'\n",
    ")\n",
    "folium.LayerControl().add_to(m)\n",
    "\n",
    "m"
   ]
  },
  {
   "cell_type": "code",
   "execution_count": null,
   "metadata": {},
   "outputs": [],
   "source": [
    "### Choropleth US Map for Hospital Ratings\n",
    "\n",
    "# Initialize the map:\n",
    "m = folium.Map(location=[37, -102], zoom_start=5)\n",
    "\n",
    "# Add the color for the chloropleth:\n",
    "m.choropleth(\n",
    " geo_data=state_geo,\n",
    " name='choropleth',\n",
    " data=state_data,\n",
    " columns=['State', 'Rating'],\n",
    " key_on='feature.id',\n",
    " fill_color='RdYlGn',\n",
    " fill_opacity=0.7,\n",
    " line_opacity=0.2,\n",
    " legend_name='Rating'\n",
    ")\n",
    "folium.LayerControl().add_to(m)\n",
    "\n",
    "m"
   ]
  },
  {
   "cell_type": "code",
   "execution_count": null,
   "metadata": {},
   "outputs": [],
   "source": [
    "### Chloropleth US Map for Hospital Size\n",
    "\n",
    "# Initialize the map:\n",
    "m = folium.Map(location=[37, -102], zoom_start=5)\n",
    "\n",
    "# Add the color for the chloropleth:\n",
    "m.choropleth(\n",
    " geo_data=state_geo,\n",
    " name='choropleth',\n",
    " data=state_data,\n",
    " columns=['State', 'BedCounts'],\n",
    " key_on='feature.id',\n",
    " fill_color='RdYlGn',\n",
    " fill_opacity=0.7,\n",
    " line_opacity=0.2,\n",
    " legend_name='Hospital Size'\n",
    ")\n",
    "folium.LayerControl().add_to(m)\n",
    "\n",
    "m"
   ]
  },
  {
   "cell_type": "code",
   "execution_count": null,
   "metadata": {
    "collapsed": true
   },
   "outputs": [],
   "source": [
    "def showPlot(df, state, rating=[1,2,3,4,5]):\n",
    "    if not state in list(df['Provider State']):\n",
    "        print('your state input might be wrong. please check your input!')\n",
    "    elif not isinstance(rating, list) or len(rating)==0:\n",
    "        print('rating must be a list contains more than one numeric element. please check your input!')\n",
    "    else:\n",
    "        dfbyState = df[df['Provider State'] == state]\n",
    "        #dfbyState_Rating = dfbyState[dfbyState[\"Hospital overall rating\"].isin(rating)]\n",
    "        sns.lmplot(x='Cost', y=\"BEDS\", hue=\"Hospital overall rating\", data=dfbyState, fit_reg=False, legend=True, size = 15, scatter_kws={'alpha':0.9})\n",
    "        sns.set(rc={'figure.figsize':(2,1)}, font_scale=1)\n",
    "        plt.ylim(0,)\n",
    "        plt.xlim(0,4000)\n",
    "        plt.title(f'Cost-Size relationship in {state}')\n",
    "#         plt.savefig(f'cost_size_rating_in{state}.png')\n",
    "        plt.show()"
   ]
  },
  {
   "cell_type": "code",
   "execution_count": null,
   "metadata": {
    "scrolled": false
   },
   "outputs": [],
   "source": [
    "\n",
    "plt.rcParams.update(plt.rcParamsDefault)\n",
    "def f(STATE):\n",
    "    showPlot(df,STATE)\n",
    "states = df.groupby('Provider State').mean().index\n",
    "widgets.interact(f, STATE=states);"
   ]
  },
  {
   "cell_type": "code",
   "execution_count": null,
   "metadata": {},
   "outputs": [],
   "source": [
    "hover = HoverTool(tooltips=[\n",
    "    (\"name:\", \"@prov\"),\n",
    "    (\"cost:\", \"$x\"),\n",
    "    (\"size:\", \"$y\")    \n",
    "])\n",
    "pan = PanTool()\n",
    "box = BoxZoomTool()\n",
    "undo = UndoTool() \n",
    "redo = RedoTool()\n",
    "reset = ResetTool()\n",
    "\n",
    "# drop data that 'BEDS' > 0\n",
    "df_hasbeds = df[df['BEDS'] > 0]\n",
    "states = df_hasbeds.groupby('Provider State').mean().index\n",
    "d = widgets.Dropdown(options=states, value='AK')\n",
    "exg_r = []\n",
    "\n",
    "def initialize_source():\n",
    "    return ColumnDataSource(data=dict(x=[],y=[],prov=[]))\n",
    "\n",
    "def initialize_figure(title='Cost-Size relationship', tools=[hover,box,pan,undo,redo,reset], plot_width=640, plot_height=400):\n",
    "        fig = figure(title=title, tools=tools, plot_width=plot_width, plot_height=plot_height)\n",
    "        x = np.array([])\n",
    "        y = np.array([])\n",
    "        fig.scatter(x, y)     \n",
    "        return fig\n",
    "        \n",
    "# Event handler\n",
    "def on_value_change(change):\n",
    "    print('on_val_ch: ' + str(len(exg_r)))\n",
    "    for r in exg_r:\n",
    "        if r.visible:\n",
    "            r.visible=False\n",
    "    \n",
    "#     r = fig.line(\"x\", \"y\", source=initialize_source(), legend=change.new)\n",
    "#     r.visible=False\n",
    "#     print(change.new)\n",
    "    new_dfbyState = df_hasbeds[df_hasbeds['Provider State'] == change.new]\n",
    "    overlayPlot(new_dfbyState, change.new, [np.random.randint(1,3)])\n",
    "#     for i in [1,2,3,4,5]:\n",
    "#         df_State_Rating = new_dfbyState[new_dfbyState[\"Hospital overall rating\"].isin([i])]\n",
    "#         x = df_State_Rating['Cost']\n",
    "#         y = df_State_Rating['BEDS']\n",
    "#         provider = df_State_Rating['Provider name']\n",
    "#         source = ColumnDataSource(data=dict(x=x,y=y,prov=provider))\n",
    "#         r = fig.scatter(\"x\", \"y\", source=source, color = colors[i-1], legend=str(i))\n",
    "#         push_notebook(handle=t)\n",
    "#     print(new_dfbyState)\n",
    "#     new_dfbyState_Rating = new_dfbyState[new_dfbyState[\"Hospital overall rating\"].isin([1,2,3,4,5])]\n",
    "#     x=new_dfbyState_Rating['Cost']\n",
    "#     y=new_dfbyState_Rating['BEDS']\n",
    "#     provider=new_dfbyState_Rating['Provider name'] \n",
    "#     source.data=dict(x=x,y=y,desc=provider)\n",
    "#     t = show(f, notebook_handle=True)\n",
    "    t = show(fig, notebook_handle=True)\n",
    "    \n",
    "    push_notebook(handle=t)\n",
    "    \n",
    "def overlayPlot(df_State, state, ratings):\n",
    "    colors = ['#d7191c', '#fdae61', '#e0e03e', '#a6d96a', '#1a9641']\n",
    "    if not isinstance(ratings, list) or len(ratings)==0:\n",
    "        print('rating must be a list contains more than one numeric element. please check your input!')\n",
    "    else:\n",
    "        for i in ratings:\n",
    "            df_State_Rating = df_State[df_State[\"Hospital overall rating\"].isin([i])]\n",
    "            x = df_State_Rating['Cost']\n",
    "            y = df_State_Rating['BEDS']\n",
    "            provider = df_State_Rating['Provider Name']\n",
    "            source = ColumnDataSource(data=dict(x=x,y=y,prov=provider))\n",
    "            r = fig.scatter(\"x\", \"y\", source=source, color = colors[i-1], legend= 'Rating: ' + str(i))\n",
    "            r.name= f'Rating: {i} --- {state}'\n",
    "            exg_r.append(r)\n",
    "    \n",
    "    for r in exg_r:\n",
    "        print(f'{r.name}, {r.visible}')   \n",
    "\n",
    "d.observe(on_value_change, names='value')\n",
    "\n",
    "\n",
    "target_state = 'CA'\n",
    "fig = figure(width=640, height=400, tools=[hover,box,pan,undo,redo,reset], title=f'{target_state} Cost-Size relationship')\n",
    "\n",
    "dfbyState = df_hasbeds[df_hasbeds['Provider State'] == target_state]\n",
    "\n",
    "display(d)\n",
    "overlayPlot(dfbyState, target_state,[1,2,3,4,5])\n",
    "output_notebook()\n",
    "fig.xaxis.axis_label = 'Cost'\n",
    "fig.yaxis.axis_label = 'Size (Bed count)'\n",
    "\n",
    "t = show(fig, notebook_handle=True)"
   ]
  },
  {
   "cell_type": "markdown",
   "metadata": {},
   "source": [
    "### Linda's Scatter Plot --- Ownership vs cost"
   ]
  },
  {
   "cell_type": "code",
   "execution_count": null,
   "metadata": {},
   "outputs": [],
   "source": [
    "\n",
    "sns.set_context(\"poster\", font_scale = 2)\n",
    "fig = sns.lmplot(x='BEDS', y=' Average Covered Charges ', hue=\"Hospital Ownership\", data=df, \n",
    "           fit_reg=False, scatter_kws={\"alpha\":0.5},size=15, aspect=1.5, palette=['red','gold','blue'])\n",
    "plt.xlim(0, 1300)\n",
    "plt.ylim(0, 120000)\n",
    "plt.title(\"Hospital Charges and Bed Count\")\n",
    "plt.figure\n",
    "plt.savefig(\"Scatter-Hospital Charges and Bed Count.png\")\n",
    "plt.show()"
   ]
  },
  {
   "cell_type": "markdown",
   "metadata": {},
   "source": [
    "### Sunny's and Shihong Ownership Analysis"
   ]
  },
  {
   "cell_type": "code",
   "execution_count": null,
   "metadata": {},
   "outputs": [],
   "source": [
    "#ploting the percentage of hospitital ownership\n",
    "plt.rcParams.update(plt.rcParamsDefault)\n",
    "plt.figure(figsize=(8,6))\n",
    "df[\"Hospital Ownership\"].value_counts(normalize= True).plot(\n",
    "    kind = \"pie\",\n",
    "    explode=[0.1,0,0],\n",
    "    colors=[\"lightgreen\", \"lightskyblue\", \"lightcoral\"],\n",
    "    autopct=\"%1.1f%%\",\n",
    "    shadow=False, \n",
    "    startangle=140)\n",
    "plt.title(\"Hospitals by Ownership Type\")\n",
    "plt.axis(\"equal\") \n",
    "\n",
    "plt.savefig(\"Pie - hospitals by ownership type.png\")\n",
    "plt.show()"
   ]
  },
  {
   "cell_type": "code",
   "execution_count": null,
   "metadata": {},
   "outputs": [],
   "source": [
    "#Count for each type of hospital\n",
    "types = df['Hospital Ownership'].unique()\n",
    "for each in types:\n",
    "    print(each)\n",
    "    print(df['Hospital Ownership'][df['Hospital Ownership'] == each].count())"
   ]
  },
  {
   "cell_type": "code",
   "execution_count": null,
   "metadata": {
    "scrolled": false
   },
   "outputs": [],
   "source": [
    "# Visualization for cost, rating, capacity for all ownership type \n",
    "cost_graph = go.Bar(x =[df['Hospital Ownership'].unique()[0],df['Hospital Ownership'].unique()[2], df['Hospital Ownership'].unique()[1]], \n",
    "                    y = df.groupby('Hospital Ownership')['Cost'].mean(),\n",
    "                   name = \"Cost\", \n",
    "                   marker=dict(\n",
    "        color='#b2df8a',\n",
    "        line=dict(\n",
    "            color='rgb(8,48,107)',\n",
    "            width=1),\n",
    "        ))\n",
    "\n",
    "\n",
    "capa_graph = go.Bar(x =[df['Hospital Ownership'].unique()[0],df['Hospital Ownership'].unique()[2], df['Hospital Ownership'].unique()[1]], \n",
    "                    y = df.groupby('Hospital Ownership')['BEDS'].mean(),\n",
    "                   name = \"Capacity\",\n",
    "                   marker=dict(\n",
    "        color='#a6cee3',\n",
    "        line=dict(\n",
    "            color='rgb(8,48,107)',\n",
    "            width=1),\n",
    "        ))\n",
    "\n",
    "rating_graph = go.Bar(x =[df['Hospital Ownership'].unique()[0],df['Hospital Ownership'].unique()[2], df['Hospital Ownership'].unique()[1]], \n",
    "                    y = df.groupby('Hospital Ownership')['Hospital overall rating'].mean()*100,\n",
    "                   name = \"Rating\",\n",
    "                   marker=dict(\n",
    "        color='#1f78b4',\n",
    "        line=dict(\n",
    "            color='rgb(8,48,107)',\n",
    "            width=1),\n",
    "        ))\n",
    "data = [cost_graph, capa_graph, rating_graph ]\n",
    "\n",
    "updatemenus = list([\n",
    "    dict(type=\"buttons\", x = -0.3,\n",
    "       \n",
    "         buttons=list([   \n",
    "            dict(label = 'Cost Comparison', \n",
    "                 method = 'update',  \n",
    "                 args = [{'visible': [True, False, False]}, \n",
    "                         {'title': 'Cost(USD) vs Ownership Type'\n",
    "                          }]),\n",
    "            dict(label = 'Capacity Comparison',\n",
    "                 method = 'update',\n",
    "                 args = [{'visible': [False, True, False]}, \n",
    "                         {'title': 'Capacity(Number of Beds) vs Ownership Type'\n",
    "                          }]),\n",
    "            dict(label = 'Rating Comparison',\n",
    "                 method = 'update', \n",
    "                 args = [{'visible': [False, False, True]}, \n",
    "                         {'title': 'Rating(Out of 500) vs Ownership Type',\n",
    "                          }]),\n",
    "             dict(label = 'Overall Comparison',\n",
    "                 method = 'update', \n",
    "                 args = [{'visible': [True, True, True,True]},  \n",
    "                         {'title': 'Overall Comparison'\n",
    "                          }])\n",
    "\n",
    "       \n",
    "    \n",
    "]))])\n",
    "\n",
    "\n",
    "layout = dict( title =\"Overall Comparison\", showlegend=True,  width=600,\n",
    "    height=400,updatemenus=updatemenus)\n",
    "\n",
    "fig = dict(data=data, layout=layout)\n",
    "py.plotly.image.save_as(fig,filename='Overall_comparison_types.png')\n",
    "py.offline.iplot(fig)\n"
   ]
  },
  {
   "cell_type": "code",
   "execution_count": null,
   "metadata": {},
   "outputs": [],
   "source": [
    "#Made this awesome geo scatter plot, WOOOT!\n",
    "#input into plotly by scattergeo\n",
    "gov = dict(type=\"scattergeo\", locationmode=\"USA-states\", name = df['Hospital Ownership'].unique()[0],\n",
    "            text = df['Hospital Ownership'].unique()[0] , \n",
    "            lon = df.loc[df['Hospital Ownership']== df['Hospital Ownership'].unique()[0], 'Longitude'],\n",
    "            lat = df.loc[df['Hospital Ownership']== df['Hospital Ownership'].unique()[0], 'Latitude'], \n",
    "             marker = dict(size=6, autocolorscale=True, colorscale='custom-colorscale',\n",
    "            color = '#d7191c'))\n",
    "\n",
    "vol = dict(type=\"scattergeo\", locationmode=\"USA-states\", name = df['Hospital Ownership'].unique()[1],\n",
    "            text = df['Hospital Ownership'].unique()[1] , \n",
    "            lon = df.loc[df['Hospital Ownership']== df['Hospital Ownership'].unique()[1],'Longitude'],\n",
    "            lat = df.loc[df['Hospital Ownership']== df['Hospital Ownership'].unique()[1], 'Latitude'], \n",
    "             marker = dict(size=6, autocolorscale=True, colorscale='custom-colorscale',\n",
    "            color = '#fdae61'))\n",
    "\n",
    "ind = dict(type=\"scattergeo\", locationmode=\"USA-states\", name = df['Hospital Ownership'].unique()[2],\n",
    "            text = df['Hospital Ownership'].unique()[2] , \n",
    "            lon = df.loc[df['Hospital Ownership']== df['Hospital Ownership'].unique()[2], 'Longitude'],\n",
    "            lat = df.loc[df['Hospital Ownership']== df['Hospital Ownership'].unique()[2], 'Latitude'], \n",
    "             marker = dict(size=6, autocolorscale=True, colorscale='custom-colorscale',\n",
    "            color = '#2c7bb6'))\n",
    "\n",
    "data = [gov,vol,ind]\n",
    "\n",
    "layout = dict(title=\"Hospital Ownership Distribution in US\", showlegend=True,\n",
    "              geo = dict(scope='usa',projection = dict(type='albers usa'), \n",
    "                         showland=True, landcolor=\"#abd9e9\"))\n",
    "\n",
    "fig = dict(data=data, layout=layout)\n",
    "py.plotly.image.save_as(fig,filename='USA_map_hospital_types.png')\n",
    "py.offline.iplot(fig)\n"
   ]
  },
  {
   "cell_type": "code",
   "execution_count": null,
   "metadata": {
    "collapsed": true
   },
   "outputs": [],
   "source": []
  },
  {
   "cell_type": "code",
   "execution_count": null,
   "metadata": {
    "collapsed": true
   },
   "outputs": [],
   "source": []
  }
 ],
 "metadata": {
  "kernelspec": {
   "display_name": "Python [conda env:PythonData]",
   "language": "python",
   "name": "conda-env-PythonData-py"
  },
  "language_info": {
   "codemirror_mode": {
    "name": "ipython",
    "version": 3
   },
   "file_extension": ".py",
   "mimetype": "text/x-python",
   "name": "python",
   "nbconvert_exporter": "python",
   "pygments_lexer": "ipython3",
   "version": "3.6.3"
  }
 },
 "nbformat": 4,
 "nbformat_minor": 2
}
