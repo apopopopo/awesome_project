{
 "cells": [
  {
   "cell_type": "code",
   "execution_count": 240,
   "metadata": {
    "collapsed": true
   },
   "outputs": [],
   "source": [
    "import pandas as pd\n",
    "import numpy as np\n",
    "import matplotlib.pyplot as plt\n",
    "\n",
    "data = pd.read_csv(\"DRG_hospital_rating_ownertype.csv\",encoding='mac_roman')  #for csv files that from a mac computer\n",
    "data2 =pd.read_csv(\"LH_merged_withbedcount.csv\",encoding='mac_roman')  #for csv files that from a mac computer"
   ]
  },
  {
   "cell_type": "code",
   "execution_count": 241,
   "metadata": {
    "scrolled": true
   },
   "outputs": [],
   "source": [
    "#selecting columns i care about, i don't know why theres two beds. I cleaned it later tho. \n",
    "data1 = data[['Provider Id','Provider Name','Hospital Type', 'Hospital Ownership', 'Hospital overall rating']]\n",
    "data2 = data2[['Provider Id', 'Provider Name','BEDS', 'BEDS']]"
   ]
  },
  {
   "cell_type": "code",
   "execution_count": 242,
   "metadata": {
    "scrolled": true
   },
   "outputs": [],
   "source": [
    "df = pd.merge(data1, data2, how=  \"inner\", on = 'Provider Id') #merge two data together "
   ]
  },
  {
   "cell_type": "code",
   "execution_count": 243,
   "metadata": {
    "scrolled": true
   },
   "outputs": [],
   "source": [
    "df = df.iloc[:,:-1] #delet the duplicate \"BEDS\" columns"
   ]
  },
  {
   "cell_type": "code",
   "execution_count": 244,
   "metadata": {
    "scrolled": true
   },
   "outputs": [],
   "source": [
    "df = df.drop(['Provider Name_y', 'Hospital Type'], axis =1) #delete more columns\n"
   ]
  },
  {
   "cell_type": "code",
   "execution_count": 245,
   "metadata": {
    "collapsed": true
   },
   "outputs": [],
   "source": [
    "df = df.rename(columns={'Provider Name_x':'Provider name'}) #cleaning data"
   ]
  },
  {
   "cell_type": "code",
   "execution_count": 246,
   "metadata": {},
   "outputs": [
    {
     "data": {
      "text/plain": [
       "Index(['Provider Id', 'Provider name', 'Hospital Ownership',\n",
       "       'Hospital overall rating', 'BEDS'],\n",
       "      dtype='object')"
      ]
     },
     "execution_count": 246,
     "metadata": {},
     "output_type": "execute_result"
    }
   ],
   "source": [
    "df.columns"
   ]
  },
  {
   "cell_type": "code",
   "execution_count": 247,
   "metadata": {
    "scrolled": true
   },
   "outputs": [],
   "source": [
    "df =df.drop_duplicates() #cleaning up duplicated rows "
   ]
  },
  {
   "cell_type": "code",
   "execution_count": 248,
   "metadata": {
    "scrolled": false
   },
   "outputs": [
    {
     "data": {
      "text/plain": [
       "Voluntary non-profit - Private                 969\n",
       "Proprietary                                    463\n",
       "Voluntary non-profit - Other                   258\n",
       "Voluntary non-profit - Church                  241\n",
       "Government - Hospital District or Authority    220\n",
       "Government - Local                             141\n",
       "Physician                                       26\n",
       "Government - State                              22\n",
       "Government - Federal                             9\n",
       "Name: Hospital Ownership, dtype: int64"
      ]
     },
     "execution_count": 248,
     "metadata": {},
     "output_type": "execute_result"
    }
   ],
   "source": [
    "df[\"Hospital Ownership\"].value_counts()"
   ]
  },
  {
   "cell_type": "code",
   "execution_count": 249,
   "metadata": {},
   "outputs": [
    {
     "data": {
      "text/plain": [
       "array(['Government - Hospital District or Authority',\n",
       "       'Voluntary non-profit - Private', 'Government - State',\n",
       "       'Proprietary', 'Voluntary non-profit - Church',\n",
       "       'Voluntary non-profit - Other', 'Government - Local', 'Physician',\n",
       "       'Government - Federal'], dtype=object)"
      ]
     },
     "execution_count": 249,
     "metadata": {},
     "output_type": "execute_result"
    }
   ],
   "source": [
    "df[\"Hospital Ownership\"].unique()"
   ]
  },
  {
   "cell_type": "code",
   "execution_count": 250,
   "metadata": {},
   "outputs": [],
   "source": [
    "#grouping catagory into Hospital ownership: Voluntary(non-profit), Government, Individual business\n",
    "df[\"Hospital Ownership\"] = df[\"Hospital Ownership\"].replace({\n",
    "    'Voluntary non-profit - Private':'Voluntary(non-profit)',\n",
    "    'Voluntary non-profit - Church':'Voluntary(non-profit)',\n",
    "    'Voluntary non-profit - Other':'Voluntary(non-profit)', \n",
    "    'Government - Hospital District or Authority': 'Government',\n",
    "    'Government - State': 'Government',\n",
    "    'Government - Local': 'Government',\n",
    "    'Government - Federal': 'Government',\n",
    "    'Proprietary': 'Individual Business',\n",
    "     'Physician': 'Individual Business'\n",
    "                                 \n",
    "                                 })"
   ]
  },
  {
   "cell_type": "code",
   "execution_count": 251,
   "metadata": {
    "scrolled": true
   },
   "outputs": [
    {
     "data": {
      "text/html": [
       "<div>\n",
       "<style>\n",
       "    .dataframe thead tr:only-child th {\n",
       "        text-align: right;\n",
       "    }\n",
       "\n",
       "    .dataframe thead th {\n",
       "        text-align: left;\n",
       "    }\n",
       "\n",
       "    .dataframe tbody tr th {\n",
       "        vertical-align: top;\n",
       "    }\n",
       "</style>\n",
       "<table border=\"1\" class=\"dataframe\">\n",
       "  <thead>\n",
       "    <tr style=\"text-align: right;\">\n",
       "      <th></th>\n",
       "      <th>index</th>\n",
       "      <th>Provider Id</th>\n",
       "      <th>Provider name</th>\n",
       "      <th>Hospital Ownership</th>\n",
       "      <th>Hospital overall rating</th>\n",
       "      <th>BEDS</th>\n",
       "    </tr>\n",
       "  </thead>\n",
       "  <tbody>\n",
       "    <tr>\n",
       "      <th>0</th>\n",
       "      <td>0</td>\n",
       "      <td>10001</td>\n",
       "      <td>SOUTHEAST ALABAMA MEDICAL CENTER</td>\n",
       "      <td>Government</td>\n",
       "      <td>3</td>\n",
       "      <td>420.0</td>\n",
       "    </tr>\n",
       "    <tr>\n",
       "      <th>1</th>\n",
       "      <td>8464</td>\n",
       "      <td>10005</td>\n",
       "      <td>MARSHALL MEDICAL CENTER SOUTH</td>\n",
       "      <td>Government</td>\n",
       "      <td>2</td>\n",
       "      <td>150.0</td>\n",
       "    </tr>\n",
       "    <tr>\n",
       "      <th>2</th>\n",
       "      <td>10865</td>\n",
       "      <td>10006</td>\n",
       "      <td>ELIZA COFFEE MEMORIAL HOSPITAL</td>\n",
       "      <td>Government</td>\n",
       "      <td>2</td>\n",
       "      <td>328.0</td>\n",
       "    </tr>\n",
       "    <tr>\n",
       "      <th>3</th>\n",
       "      <td>18261</td>\n",
       "      <td>10016</td>\n",
       "      <td>SHELBY BAPTIST MEDICAL CENTER</td>\n",
       "      <td>Voluntary(non-profit)</td>\n",
       "      <td>3</td>\n",
       "      <td>252.0</td>\n",
       "    </tr>\n",
       "    <tr>\n",
       "      <th>4</th>\n",
       "      <td>24661</td>\n",
       "      <td>10023</td>\n",
       "      <td>BAPTIST MEDICAL CENTER SOUTH</td>\n",
       "      <td>Government</td>\n",
       "      <td>3</td>\n",
       "      <td>226.0</td>\n",
       "    </tr>\n",
       "  </tbody>\n",
       "</table>\n",
       "</div>"
      ],
      "text/plain": [
       "   index  Provider Id                     Provider name  \\\n",
       "0      0        10001  SOUTHEAST ALABAMA MEDICAL CENTER   \n",
       "1   8464        10005     MARSHALL MEDICAL CENTER SOUTH   \n",
       "2  10865        10006    ELIZA COFFEE MEMORIAL HOSPITAL   \n",
       "3  18261        10016     SHELBY BAPTIST MEDICAL CENTER   \n",
       "4  24661        10023      BAPTIST MEDICAL CENTER SOUTH   \n",
       "\n",
       "      Hospital Ownership  Hospital overall rating   BEDS  \n",
       "0             Government                        3  420.0  \n",
       "1             Government                        2  150.0  \n",
       "2             Government                        2  328.0  \n",
       "3  Voluntary(non-profit)                        3  252.0  \n",
       "4             Government                        3  226.0  "
      ]
     },
     "execution_count": 251,
     "metadata": {},
     "output_type": "execute_result"
    }
   ],
   "source": [
    "df =df.reset_index()\n",
    "df.head()"
   ]
  },
  {
   "cell_type": "code",
   "execution_count": 252,
   "metadata": {
    "collapsed": true
   },
   "outputs": [],
   "source": [
    "#cleaned data ready for export\n",
    "df.to_csv(\"data with provider id_name_hospitalownershipgrouped_rating_BEDS.csv\")"
   ]
  },
  {
   "cell_type": "code",
   "execution_count": 253,
   "metadata": {},
   "outputs": [
    {
     "data": {
      "text/plain": [
       "Voluntary(non-profit)    1468\n",
       "Individual Business       489\n",
       "Government                392\n",
       "Name: Hospital Ownership, dtype: int64"
      ]
     },
     "execution_count": 253,
     "metadata": {},
     "output_type": "execute_result"
    }
   ],
   "source": [
    "df[\"Hospital Ownership\"].value_counts()"
   ]
  },
  {
   "cell_type": "code",
   "execution_count": 254,
   "metadata": {},
   "outputs": [
    {
     "data": {
      "image/png": "[encoded data removed]",
      "text/plain": [
       "<matplotlib.figure.Figure at 0x195ab4c5eb8>"
      ]
     },
     "metadata": {},
     "output_type": "display_data"
    }
   ],
   "source": [
    "#ploting the percentage of hospitital ownership\n",
    "df[\"Hospital Ownership\"].value_counts(normalize= True).plot(\n",
    "    kind = \"pie\",\n",
    "    explode=[0.1,0,0],\n",
    "    colors=[\"lightgreen\", \"lightskyblue\", \"lightcoral\"],\n",
    "    autopct=\"%1.1f%%\",\n",
    "    shadow=False, \n",
    "    startangle=140)\n",
    "plt.title(\"% hospitals by ownership type\")\n",
    "plt.axis(\"equal\") \n",
    "\n",
    "# plt.savefig(\"hospitals by ownership type.png\")\n",
    "plt.show()\n",
    "plt.show()"
   ]
  },
  {
   "cell_type": "code",
   "execution_count": 255,
   "metadata": {
    "collapsed": true
   },
   "outputs": [],
   "source": [
    "#Voluntary information\n",
    "voluntary_capacity = df.loc[df[\"Hospital Ownership\"]=='Voluntary(non-profit)', 'BEDS']\n",
    "voluntary_rating= df.loc[df[\"Hospital Ownership\"]=='Voluntary(non-profit)', 'Hospital overall rating']\n",
    "voluntary_color = \"lightgreen\"\n",
    "\n",
    "\n",
    "#Government information\n",
    "gov_capacity = df.loc[df[\"Hospital Ownership\"]=='Government', 'BEDS']\n",
    "gov_rating= df.loc[df[\"Hospital Ownership\"]=='Government', 'Hospital overall rating']\n",
    "gov_color = \"lightcoral\"\n",
    "\n",
    "\n",
    "#Individual BUsiness\n",
    "indvidual_capacity = df.loc[df[\"Hospital Ownership\"]=='Individual Business', 'BEDS']\n",
    "indvidual_rating= df.loc[df[\"Hospital Ownership\"]=='Individual Business', 'Hospital overall rating']\n",
    "indvidual_color = \"lightskyblue\"\n"
   ]
  },
  {
   "cell_type": "code",
   "execution_count": 256,
   "metadata": {
    "scrolled": true
   },
   "outputs": [
    {
     "data": {
      "image/png": "[encoded data removed]",
      "text/plain": [
       "<matplotlib.figure.Figure at 0x195ab4cc390>"
      ]
     },
     "metadata": {},
     "output_type": "display_data"
    }
   ],
   "source": [
    "#set figure size before plotting\n",
    "plt.figure(figsize=(10,6))\n",
    "\n",
    "#plotting\n",
    "plt.scatter(x = voluntary_capacity, y =voluntary_rating, s = 100,\n",
    "             alpha = 0.9, c = voluntary_color , label='Voluntary(non-profit)',\n",
    "            edgecolor=\"black\", linewidths=1)\n",
    "plt.scatter(x = gov_capacity, y =gov_rating, s = 100,\n",
    "             alpha = 0.9, c = gov_color , label='Government',\n",
    "            edgecolor=\"black\", linewidths=1)\n",
    "plt.scatter(x = indvidual_capacity, y =indvidual_rating, s = 100,\n",
    "             alpha = 0.9, c = indvidual_color , label='Individual Business',\n",
    "            edgecolor=\"black\", linewidths=1)\n",
    "\n",
    "# adding stuff\n",
    "plt.title(\"Hospital Rating and Capacity Analysis\")\n",
    "plt.ylabel(\"Rating\")\n",
    "plt.xlabel(\"Capacity (based on number of beds available)\")\n",
    "plt.xlim(0,1600)\n",
    "plt.grid(True)\n",
    "plt.legend(loc='center left', bbox_to_anchor=(1, 0.5), fontsize=8, title=\"Hospital Ownership\" , labelspacing = 2)\n",
    "\n",
    "plt.show()"
   ]
  },
  {
   "cell_type": "code",
   "execution_count": 257,
   "metadata": {
    "scrolled": true
   },
   "outputs": [
    {
     "data": {
      "text/html": [
       "<div>\n",
       "<style>\n",
       "    .dataframe thead tr:only-child th {\n",
       "        text-align: right;\n",
       "    }\n",
       "\n",
       "    .dataframe thead th {\n",
       "        text-align: left;\n",
       "    }\n",
       "\n",
       "    .dataframe tbody tr th {\n",
       "        vertical-align: top;\n",
       "    }\n",
       "</style>\n",
       "<table border=\"1\" class=\"dataframe\">\n",
       "  <thead>\n",
       "    <tr style=\"text-align: right;\">\n",
       "      <th></th>\n",
       "      <th>BEDS</th>\n",
       "      <th>Hospital overall rating</th>\n",
       "    </tr>\n",
       "    <tr>\n",
       "      <th>Hospital Ownership</th>\n",
       "      <th></th>\n",
       "      <th></th>\n",
       "    </tr>\n",
       "  </thead>\n",
       "  <tbody>\n",
       "    <tr>\n",
       "      <th>Government</th>\n",
       "      <td>165.211735</td>\n",
       "      <td>2.984694</td>\n",
       "    </tr>\n",
       "    <tr>\n",
       "      <th>Individual Business</th>\n",
       "      <td>174.182004</td>\n",
       "      <td>2.848671</td>\n",
       "    </tr>\n",
       "    <tr>\n",
       "      <th>Voluntary(non-profit)</th>\n",
       "      <td>220.245913</td>\n",
       "      <td>3.226839</td>\n",
       "    </tr>\n",
       "  </tbody>\n",
       "</table>\n",
       "</div>"
      ],
      "text/plain": [
       "                             BEDS  Hospital overall rating\n",
       "Hospital Ownership                                        \n",
       "Government             165.211735                 2.984694\n",
       "Individual Business    174.182004                 2.848671\n",
       "Voluntary(non-profit)  220.245913                 3.226839"
      ]
     },
     "execution_count": 257,
     "metadata": {},
     "output_type": "execute_result"
    }
   ],
   "source": [
    "#hospital_ownsership_summary\n",
    "hospital_ownsership_summary = df.groupby('Hospital Ownership')['BEDS','Hospital overall rating'].mean()\n",
    "hospital_ownsership_summary"
   ]
  },
  {
   "cell_type": "code",
   "execution_count": 258,
   "metadata": {
    "scrolled": false
   },
   "outputs": [
    {
     "data": {
      "image/png": "[encoded data removed]",
      "text/plain": [
       "<matplotlib.figure.Figure at 0x195ab4cc048>"
      ]
     },
     "metadata": {},
     "output_type": "display_data"
    }
   ],
   "source": [
    "# Bar Graph Version\n",
    "fig = plt.figure() # Create matplotlib figure\n",
    "\n",
    "ax = fig.add_subplot(111) # Create matplotlib axes\n",
    "ax2 = ax.twinx() # Create another axes that shares the same x-axis as ax.\n",
    "\n",
    "width = 0.2\n",
    "\n",
    "df.groupby('Hospital Ownership')['Hospital overall rating'].mean().plot(\n",
    "    kind='bar', color='lightgreen', ax=ax, width=width, position=1, label=\"Average Rating\",rot=0)\n",
    "df.groupby('Hospital Ownership')['BEDS'].mean().plot(\n",
    "    kind='bar', color='skyblue', ax=ax2, width=width, position=0, label = \"Average Capacity\",rot=0)\n",
    "\n",
    "plt.title(\"Hospital Rating and Capacity Histogram\")\n",
    "\n",
    "ax.set_ylabel('Average Rating')\n",
    "ax2.set_ylabel('Avarage Capacity')\n",
    "ax.set_xlabel(\"\")\n",
    "plt.legend(loc='best',  fontsize=8, labelspacing = 2)\n",
    "\n",
    "\n",
    "plt.show()\n",
    "\n"
   ]
  },
  {
   "cell_type": "code",
   "execution_count": 264,
   "metadata": {},
   "outputs": [
    {
     "data": {
      "text/plain": [
       "0                Government\n",
       "1                Government\n",
       "2                Government\n",
       "3     Voluntary(non-profit)\n",
       "4                Government\n",
       "5                Government\n",
       "6                Government\n",
       "7       Individual Business\n",
       "8       Individual Business\n",
       "10      Individual Business\n",
       "12    Voluntary(non-profit)\n",
       "19      Individual Business\n",
       "21    Voluntary(non-profit)\n",
       "24    Voluntary(non-profit)\n",
       "25    Voluntary(non-profit)\n",
       "26    Voluntary(non-profit)\n",
       "29    Voluntary(non-profit)\n",
       "30    Voluntary(non-profit)\n",
       "39    Voluntary(non-profit)\n",
       "40    Voluntary(non-profit)\n",
       "58    Voluntary(non-profit)\n",
       "60    Voluntary(non-profit)\n",
       "61      Individual Business\n",
       "65      Individual Business\n",
       "84               Government\n",
       "Name: Hospital Ownership, dtype: object"
      ]
     },
     "execution_count": 264,
     "metadata": {},
     "output_type": "execute_result"
    }
   ],
   "source": []
  },
  {
   "cell_type": "code",
   "execution_count": 268,
   "metadata": {},
   "outputs": [
    {
     "data": {
      "text/plain": [
       "Voluntary(non-profit)    180\n",
       "Individual Business       50\n",
       "Government                17\n",
       "Name: Hospital Ownership, dtype: int64"
      ]
     },
     "execution_count": 268,
     "metadata": {},
     "output_type": "execute_result"
    }
   ],
   "source": [
    "df.loc[df['Hospital overall rating']== 5, 'Hospital Ownership'].value_counts()"
   ]
  },
  {
   "cell_type": "code",
   "execution_count": 276,
   "metadata": {},
   "outputs": [
    {
     "data": {
      "text/plain": [
       "Voluntary(non-profit)    475\n",
       "Government               107\n",
       "Individual Business       95\n",
       "Name: Hospital Ownership, dtype: int64"
      ]
     },
     "execution_count": 276,
     "metadata": {},
     "output_type": "execute_result"
    }
   ],
   "source": [
    "df.loc[df['Hospital overall rating']== 4, 'Hospital Ownership'].value_counts()"
   ]
  },
  {
   "cell_type": "code",
   "execution_count": 279,
   "metadata": {},
   "outputs": [
    {
     "data": {
      "text/plain": [
       "Voluntary(non-profit)    419\n",
       "Government               154\n",
       "Individual Business      126\n",
       "Name: Hospital Ownership, dtype: int64"
      ]
     },
     "execution_count": 279,
     "metadata": {},
     "output_type": "execute_result"
    }
   ],
   "source": [
    "df.loc[df['Hospital overall rating']== 3, 'Hospital Ownership'].value_counts()"
   ]
  },
  {
   "cell_type": "code",
   "execution_count": 277,
   "metadata": {},
   "outputs": [
    {
     "data": {
      "text/plain": [
       "Voluntary(non-profit)    286\n",
       "Individual Business      167\n",
       "Government                81\n",
       "Name: Hospital Ownership, dtype: int64"
      ]
     },
     "execution_count": 277,
     "metadata": {},
     "output_type": "execute_result"
    }
   ],
   "source": [
    "df.loc[df['Hospital overall rating']== 2, 'Hospital Ownership'].value_counts()"
   ]
  },
  {
   "cell_type": "code",
   "execution_count": 271,
   "metadata": {
    "scrolled": true
   },
   "outputs": [
    {
     "data": {
      "text/plain": [
       "Voluntary(non-profit)    108\n",
       "Individual Business       51\n",
       "Government                33\n",
       "Name: Hospital Ownership, dtype: int64"
      ]
     },
     "execution_count": 271,
     "metadata": {},
     "output_type": "execute_result"
    }
   ],
   "source": [
    "df.loc[df['Hospital overall rating']== 1, 'Hospital Ownership'].value_counts()"
   ]
  },
  {
   "cell_type": "code",
   "execution_count": null,
   "metadata": {
    "collapsed": true
   },
   "outputs": [],
   "source": []
  }
 ],
 "metadata": {
  "kernelspec": {
   "display_name": "Python [conda env:PythonData]",
   "language": "python",
   "name": "conda-env-PythonData-py"
  },
  "language_info": {
   "codemirror_mode": {
    "name": "ipython",
    "version": 3
   },
   "file_extension": ".py",
   "mimetype": "text/x-python",
   "name": "python",
   "nbconvert_exporter": "python",
   "pygments_lexer": "ipython3",
   "version": "3.6.3"
  }
 },
 "nbformat": 4,
 "nbformat_minor": 2
}
