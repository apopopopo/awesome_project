{
 "cells": [
  {
   "cell_type": "code",
   "execution_count": 2,
   "metadata": {},
   "outputs": [
    {
     "data": {
      "text/html": [
       "<script>requirejs.config({paths: { 'plotly': ['https://cdn.plot.ly/plotly-latest.min']},});if(!window.Plotly) {{require(['plotly'],function(plotly) {window.Plotly=plotly;});}}</script>"
      ],
      "text/vnd.plotly.v1+html": [
       "<script>requirejs.config({paths: { 'plotly': ['https://cdn.plot.ly/plotly-latest.min']},});if(!window.Plotly) {{require(['plotly'],function(plotly) {window.Plotly=plotly;});}}</script>"
      ]
     },
     "metadata": {},
     "output_type": "display_data"
    }
   ],
   "source": [
    "import pandas as pd\n",
    "import numpy as np\n",
    "import matplotlib.pyplot as plt\n",
    "import plotly as py\n",
    "from pprint import pprint\n",
    "import requests\n",
    "import json\n",
    "from plotly import __version__\n",
    "from plotly.offline import download_plotlyjs, init_notebook_mode, plot, iplot\n",
    "import plotly.graph_objs as go\n",
    "\n",
    "py.offline.init_notebook_mode(connected=True)\n",
    "\n",
    "\n",
    "#reading raw data\n",
    "data1 = pd.read_csv(\"Inpatient_Prospective_Payment_System.csv\",encoding='mac_roman')\n",
    "data2 = pd.read_csv(\"bedsLatLong.csv\",encoding='mac_roman')\n",
    "data3 = pd.read_csv(\"ratingsAndOwnership.csv\",encoding='mac_roman')\n"
   ]
  },
  {
   "cell_type": "code",
   "execution_count": 152,
   "metadata": {
    "collapsed": true
   },
   "outputs": [],
   "source": [
    "#selecting the columns \n",
    "data1 = data1[['Provider Id', 'Provider Name',\n",
    "       'Provider Street Address', 'Provider City', 'Provider State',\n",
    "       'Provider Zip Code',     \n",
    "       ' Average Total Payments ', 'Average Medicare Payments']]\n",
    "\n",
    "\n",
    "data2=data2[[ 'ID','NAME',  'BEDS']]\n",
    "\n",
    "data2 = data2.rename(columns={'ID': 'Provider Id', 'NAME':'Provider Name'})\n",
    "\n",
    "data3= data3[['Provider ID', 'Hospital Type', 'Hospital Ownership',\n",
    "      \n",
    "       'Hospital overall rating'\n",
    "      ]]\n",
    "\n",
    "data3 = data3.rename(columns={'Provider ID': 'Provider Id'})\n",
    "\n"
   ]
  },
  {
   "cell_type": "code",
   "execution_count": 153,
   "metadata": {
    "collapsed": true,
    "scrolled": false
   },
   "outputs": [],
   "source": [
    "#Merg the initial data sets\n",
    "main = pd.merge(data1,data3, on = 'Provider Id', how = 'outer')\n",
    "main = pd.merge(main,data2, on = 'Provider Name', how = 'outer')\n",
    "\n",
    "\n"
   ]
  },
  {
   "cell_type": "code",
   "execution_count": 154,
   "metadata": {
    "collapsed": true
   },
   "outputs": [],
   "source": [
    "#do some clean up\n",
    "main= main.drop_duplicates()\n",
    "\n",
    "main = main.dropna(how = \"any\") \n",
    "\n",
    "main = main[['Provider Id_x', 'Provider Name', 'Provider Street Address',\n",
    "       'Provider City', 'Provider State', 'Provider Zip Code',\n",
    "       ' Average Total Payments ', 'Average Medicare Payments',\n",
    "       'Hospital Type', 'Hospital Ownership', 'Hospital overall rating',\n",
    "        'BEDS']]\n",
    "main = main.rename(columns={'Provider Id_x': 'Provider Id'})"
   ]
  },
  {
   "cell_type": "code",
   "execution_count": 155,
   "metadata": {},
   "outputs": [
    {
     "data": {
      "text/plain": [
       "Index(['Provider Id', 'Provider Name', 'Provider Street Address',\n",
       "       'Provider City', 'Provider State', 'Provider Zip Code',\n",
       "       ' Average Total Payments ', 'Average Medicare Payments',\n",
       "       'Hospital Type', 'Hospital Ownership', 'Hospital overall rating',\n",
       "       'BEDS'],\n",
       "      dtype='object')"
      ]
     },
     "execution_count": 155,
     "metadata": {},
     "output_type": "execute_result"
    }
   ],
   "source": [
    "main.columns"
   ]
  },
  {
   "cell_type": "code",
   "execution_count": 156,
   "metadata": {
    "collapsed": true
   },
   "outputs": [],
   "source": [
    "#grouping catagory into Hospital ownership: Voluntary(non-profit), Government, Individual business\n",
    "main[\"Hospital Ownership\"] = main[\"Hospital Ownership\"].replace({\n",
    "    'Voluntary non-profit - Private':'Voluntary(non-profit)',\n",
    "    'Voluntary non-profit - Church':'Voluntary(non-profit)',\n",
    "    'Voluntary non-profit - Other':'Voluntary(non-profit)', \n",
    "    'Government - Hospital District or Authority': 'Government',\n",
    "    'Government - State': 'Government',\n",
    "    'Government - Local': 'Government',\n",
    "    'Government - Federal': 'Government',\n",
    "    'Proprietary': 'Individual Business',\n",
    "     'Physician': 'Individual Business'\n",
    "                                 \n",
    "                                 })"
   ]
  },
  {
   "cell_type": "code",
   "execution_count": 157,
   "metadata": {
    "collapsed": true,
    "scrolled": false
   },
   "outputs": [],
   "source": [
    "#cleaning up data\n",
    "main = main[main['Hospital overall rating'] != \"Not Available\"]"
   ]
  },
  {
   "cell_type": "code",
   "execution_count": 158,
   "metadata": {
    "collapsed": true,
    "scrolled": true
   },
   "outputs": [],
   "source": [
    "# removing the dollars sign and turn these two columns to float datatype\n",
    "main[' Average Total Payments '] = main[' Average Total Payments '].str.split('$').apply(lambda x: x[-1])\n",
    "\n",
    "main['Average Medicare Payments'] = main['Average Medicare Payments'].str.split('$').apply(lambda x: x[-1])\n",
    "\n",
    "main[' Average Total Payments '] = pd.to_numeric(main[' Average Total Payments '])\n",
    "main['Average Medicare Payments'] = pd.to_numeric(main['Average Medicare Payments'])\n",
    "main['Hospital overall rating'] = pd.to_numeric(main['Hospital overall rating'])\n",
    "# df.dtypes"
   ]
  },
  {
   "cell_type": "code",
   "execution_count": 159,
   "metadata": {
    "collapsed": true,
    "scrolled": false
   },
   "outputs": [],
   "source": [
    "#Adding a new column \"cost\" this is the amount that patient has to pay\n",
    "main['Cost'] = main[' Average Total Payments '] - main['Average Medicare Payments']"
   ]
  },
  {
   "cell_type": "code",
   "execution_count": 160,
   "metadata": {
    "collapsed": true
   },
   "outputs": [],
   "source": [
    "#clean up\n",
    "main['Provider Id'] = main['Provider Id'] .astype(np.int64)"
   ]
  },
  {
   "cell_type": "code",
   "execution_count": 161,
   "metadata": {
    "collapsed": true
   },
   "outputs": [],
   "source": [
    "#prepping for lat and long \n",
    "\n",
    "# create a seies name location \n",
    "main['location']= main['Provider Street Address'] + \", \" + main['Provider City'] + \", \" + main['Provider State']\n",
    "\n"
   ]
  },
  {
   "cell_type": "markdown",
   "metadata": {},
   "source": [
    "#### UNCOMMENT AT YOUR OWN RISK , THIS IS FOR GETTING COORDINATES FOR HOSPITAL LOCATIONS USING GOOGLE API"
   ]
  },
  {
   "cell_type": "code",
   "execution_count": 162,
   "metadata": {
    "collapsed": true
   },
   "outputs": [],
   "source": [
    "# #only search unique location using google api to prevent rate limiting issue\n",
    "# unique = main['location'].unique().tolist()\n",
    "\n",
    "\n",
    "# #store coordinates\n",
    "# lat = []\n",
    "# lng = []\n",
    "\n",
    "# #run google api using the unique locations\n",
    "# for target_address in unique:\n",
    "#     params = {\"address\": target_address, \"key\": api_key}\n",
    "#     base_url = \"https://maps.googleapis.com/maps/api/geocode/json\"\n",
    "#     response = requests.get(base_url, params=params).json()\n",
    "#     #traverse response to find lon/lat\n",
    "#     try:\n",
    "#         lat.append(response['results'][0]['geometry']['location']['lat'])\n",
    "#         lng.append(response['results'][0]['geometry']['location']['lng'])\n",
    "       \n",
    "#     except Exception:\n",
    "#         lat.append(0)\n",
    "#         lng.append(0)\n",
    "#     print (f\"{len(lat)/len(unique)*100}%\")  #progress counter\n",
    "\n",
    "# #add coordinates and unique loation to data frame\n",
    "# tdf = pd.DataFrame({'Latitude':lat, \"Longitude\": lng, \"location\": unique})\n",
    "\n",
    "\n",
    "# #save dataframe to csv, this way we can comment the google api section out \n",
    "# tdf.to_csv(\"lat_long_location.csv\")"
   ]
  },
  {
   "cell_type": "code",
   "execution_count": 163,
   "metadata": {
    "collapsed": true
   },
   "outputs": [],
   "source": [
    "#read the data we just made for coordinates\n",
    "data4 = pd.read_csv(\"lat_long_location.csv\",encoding='mac_roman')\n",
    "main = pd.merge(main,data4, on = 'location', how = 'outer')"
   ]
  },
  {
   "cell_type": "code",
   "execution_count": 164,
   "metadata": {
    "collapsed": true
   },
   "outputs": [],
   "source": [
    "#clean up\n",
    "main= main.drop_duplicates()\n",
    "main = main.dropna(how = \"any\") \n",
    "main= main[['Provider Id', 'Provider Name', 'Provider Street Address',\n",
    "       'Provider City', 'Provider State', 'Provider Zip Code',\n",
    "       ' Average Total Payments ', 'Average Medicare Payments',\n",
    "       'Hospital Type', 'Hospital Ownership', 'Hospital overall rating',\n",
    "       'BEDS', 'Cost', 'location', 'Latitude', 'Longitude']]\n",
    "\n",
    "main = main[main['Longitude'] != 0]  # getting rid of 0 coordinates "
   ]
  },
  {
   "cell_type": "code",
   "execution_count": 165,
   "metadata": {
    "scrolled": true
   },
   "outputs": [
    {
     "data": {
      "text/plain": [
       "Provider Id                  0\n",
       "Provider Name                0\n",
       "Provider Street Address      0\n",
       "Provider City                0\n",
       "Provider State               0\n",
       "Provider Zip Code            0\n",
       " Average Total Payments      0\n",
       "Average Medicare Payments    0\n",
       "Hospital Type                0\n",
       "Hospital Ownership           0\n",
       "Hospital overall rating      0\n",
       "BEDS                         0\n",
       "Cost                         0\n",
       "location                     0\n",
       "Latitude                     0\n",
       "Longitude                    0\n",
       "dtype: int64"
      ]
     },
     "execution_count": 165,
     "metadata": {},
     "output_type": "execute_result"
    }
   ],
   "source": [
    "main.isnull().sum() # no missing values"
   ]
  },
  {
   "cell_type": "code",
   "execution_count": 166,
   "metadata": {},
   "outputs": [
    {
     "data": {
      "text/plain": [
       "(121431, 16)"
      ]
     },
     "execution_count": 166,
     "metadata": {},
     "output_type": "execute_result"
    }
   ],
   "source": [
    "main.shape #clean data"
   ]
  },
  {
   "cell_type": "code",
   "execution_count": 167,
   "metadata": {
    "scrolled": true
   },
   "outputs": [
    {
     "data": {
      "text/plain": [
       "Provider Id                    int64\n",
       "Provider Name                 object\n",
       "Provider Street Address       object\n",
       "Provider City                 object\n",
       "Provider State                object\n",
       "Provider Zip Code            float64\n",
       " Average Total Payments      float64\n",
       "Average Medicare Payments    float64\n",
       "Hospital Type                 object\n",
       "Hospital Ownership            object\n",
       "Hospital overall rating        int64\n",
       "BEDS                         float64\n",
       "Cost                         float64\n",
       "location                      object\n",
       "Latitude                     float64\n",
       "Longitude                    float64\n",
       "dtype: object"
      ]
     },
     "execution_count": 167,
     "metadata": {},
     "output_type": "execute_result"
    }
   ],
   "source": [
    "main.dtypes #data types are good"
   ]
  },
  {
   "cell_type": "code",
   "execution_count": 168,
   "metadata": {
    "scrolled": false
   },
   "outputs": [
    {
     "data": {
      "text/plain": [
       "Provider Id                  121431\n",
       "Provider Name                121431\n",
       "Provider Street Address      121431\n",
       "Provider City                121431\n",
       "Provider State               121431\n",
       "Provider Zip Code            121431\n",
       " Average Total Payments      121431\n",
       "Average Medicare Payments    121431\n",
       "Hospital Type                121431\n",
       "Hospital Ownership           121431\n",
       "Hospital overall rating      121431\n",
       "BEDS                         121431\n",
       "Cost                         121431\n",
       "location                     121431\n",
       "Latitude                     121431\n",
       "Longitude                    121431\n",
       "dtype: int64"
      ]
     },
     "execution_count": 168,
     "metadata": {},
     "output_type": "execute_result"
    }
   ],
   "source": [
    "main.count() #all columns have the same length"
   ]
  },
  {
   "cell_type": "code",
   "execution_count": 169,
   "metadata": {
    "collapsed": true
   },
   "outputs": [],
   "source": [
    "#export the main data \n",
    "main.to_csv(\"main_data.csv\")"
   ]
  },
  {
   "cell_type": "code",
   "execution_count": 1,
   "metadata": {
    "scrolled": false
   },
   "outputs": [
    {
     "ename": "NameError",
     "evalue": "name 'main' is not defined",
     "output_type": "error",
     "traceback": [
      "\u001b[0;31m---------------------------------------------------------------------------\u001b[0m",
      "\u001b[0;31mNameError\u001b[0m                                 Traceback (most recent call last)",
      "\u001b[0;32m<ipython-input-1-8adfd6e42f3d>\u001b[0m in \u001b[0;36m<module>\u001b[0;34m()\u001b[0m\n\u001b[0;32m----> 1\u001b[0;31m \u001b[0mmain\u001b[0m\u001b[0;34m.\u001b[0m\u001b[0mtail\u001b[0m\u001b[0;34m(\u001b[0m\u001b[0;34m)\u001b[0m\u001b[0;34m\u001b[0m\u001b[0m\n\u001b[0m",
      "\u001b[0;31mNameError\u001b[0m: name 'main' is not defined"
     ]
    }
   ],
   "source": [
    "main.tail()"
   ]
  }
 ],
 "metadata": {
  "kernelspec": {
   "display_name": "Python [conda env:PythonData]",
   "language": "python",
   "name": "conda-env-PythonData-py"
  },
  "language_info": {
   "codemirror_mode": {
    "name": "ipython",
    "version": 3
   },
   "file_extension": ".py",
   "mimetype": "text/x-python",
   "name": "python",
   "nbconvert_exporter": "python",
   "pygments_lexer": "ipython3",
   "version": "3.6.3"
  }
 },
 "nbformat": 4,
 "nbformat_minor": 2
}
