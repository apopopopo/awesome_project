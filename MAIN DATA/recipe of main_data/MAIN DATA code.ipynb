{
 "cells": [
  {
   "cell_type": "code",
   "execution_count": 76,
   "metadata": {},
   "outputs": [
    {
     "data": {
      "text/html": [
       "<script>requirejs.config({paths: { 'plotly': ['https://cdn.plot.ly/plotly-latest.min']},});if(!window.Plotly) {{require(['plotly'],function(plotly) {window.Plotly=plotly;});}}</script>"
      ],
      "text/vnd.plotly.v1+html": [
       "<script>requirejs.config({paths: { 'plotly': ['https://cdn.plot.ly/plotly-latest.min']},});if(!window.Plotly) {{require(['plotly'],function(plotly) {window.Plotly=plotly;});}}</script>"
      ]
     },
     "metadata": {},
     "output_type": "display_data"
    }
   ],
   "source": [
    "import pandas as pd\n",
    "import numpy as np\n",
    "import matplotlib.pyplot as plt\n",
    "import plotly as py\n",
    "from pprint import pprint\n",
    "import requests\n",
    "import json\n",
    "from plotly import __version__\n",
    "from plotly.offline import download_plotlyjs, init_notebook_mode, plot, iplot\n",
    "import plotly.graph_objs as go\n",
    "\n",
    "py.offline.init_notebook_mode(connected=True)\n",
    "\n",
    "\n",
    "#reading raw data\n",
    "data1 = pd.read_csv(\"Inpatient_Prospective_Payment_System.csv\",encoding='mac_roman')\n",
    "data2 = pd.read_csv(\"bedsLatLong.csv\",encoding='mac_roman')\n",
    "data3 = pd.read_csv(\"ratingsAndOwnership.csv\",encoding='mac_roman')\n",
    "data4 = pd.read_csv(\"USA costs with latlon.csv\",encoding='mac_roman')"
   ]
  },
  {
   "cell_type": "code",
   "execution_count": 77,
   "metadata": {
    "collapsed": true
   },
   "outputs": [],
   "source": [
    "#selecting the columns \n",
    "data1 = data1[['Provider Id', 'Provider Name',\n",
    "       'Provider Street Address', 'Provider City', 'Provider State',\n",
    "       'Provider Zip Code',     \n",
    "       ' Average Total Payments ', 'Average Medicare Payments']]\n",
    "\n",
    "\n",
    "data2=data2[[ 'ID','NAME',  'BEDS']]\n",
    "\n",
    "data2 = data2.rename(columns={'ID': 'Provider Id', 'NAME':'Provider Name'})\n",
    "\n",
    "data3= data3[['Provider ID', 'Hospital Type', 'Hospital Ownership',\n",
    "      \n",
    "       'Hospital overall rating'\n",
    "      ]]\n",
    "\n",
    "data3 = data3.rename(columns={'Provider ID': 'Provider Id'})\n",
    "\n",
    "data4 =data4[['Provider Id','Latitude',\n",
    "       'Longitude']]\n",
    "data4['Provider Id'] = pd.to_numeric(data4['Provider Id'])"
   ]
  },
  {
   "cell_type": "code",
   "execution_count": 78,
   "metadata": {
    "collapsed": true,
    "scrolled": false
   },
   "outputs": [],
   "source": [
    "#Merg the initial 3 data set\n",
    "main = pd.merge(data1,data3, on = 'Provider Id', how = 'outer')\n",
    "main = pd.merge(main,data2, on = 'Provider Name', how = 'outer')\n",
    "\n",
    "\n"
   ]
  },
  {
   "cell_type": "code",
   "execution_count": 79,
   "metadata": {
    "collapsed": true
   },
   "outputs": [],
   "source": [
    "#do some clean up\n",
    "main= main.drop_duplicates()\n",
    "\n",
    "main = main.dropna(how = \"any\") \n",
    "\n",
    "main = main[['Provider Id_x', 'Provider Name', 'Provider Street Address',\n",
    "       'Provider City', 'Provider State', 'Provider Zip Code',\n",
    "       ' Average Total Payments ', 'Average Medicare Payments',\n",
    "       'Hospital Type', 'Hospital Ownership', 'Hospital overall rating',\n",
    "        'BEDS']]\n",
    "main = main.rename(columns={'Provider Id_x': 'Provider Id'})"
   ]
  },
  {
   "cell_type": "code",
   "execution_count": 80,
   "metadata": {},
   "outputs": [
    {
     "data": {
      "text/plain": [
       "Index(['Provider Id', 'Provider Name', 'Provider Street Address',\n",
       "       'Provider City', 'Provider State', 'Provider Zip Code',\n",
       "       ' Average Total Payments ', 'Average Medicare Payments',\n",
       "       'Hospital Type', 'Hospital Ownership', 'Hospital overall rating',\n",
       "       'BEDS'],\n",
       "      dtype='object')"
      ]
     },
     "execution_count": 80,
     "metadata": {},
     "output_type": "execute_result"
    }
   ],
   "source": [
    "main.columns"
   ]
  },
  {
   "cell_type": "code",
   "execution_count": 81,
   "metadata": {
    "collapsed": true
   },
   "outputs": [],
   "source": [
    "#grouping catagory into Hospital ownership: Voluntary(non-profit), Government, Individual business\n",
    "main[\"Hospital Ownership\"] = main[\"Hospital Ownership\"].replace({\n",
    "    'Voluntary non-profit - Private':'Voluntary(non-profit)',\n",
    "    'Voluntary non-profit - Church':'Voluntary(non-profit)',\n",
    "    'Voluntary non-profit - Other':'Voluntary(non-profit)', \n",
    "    'Government - Hospital District or Authority': 'Government',\n",
    "    'Government - State': 'Government',\n",
    "    'Government - Local': 'Government',\n",
    "    'Government - Federal': 'Government',\n",
    "    'Proprietary': 'Individual Business',\n",
    "     'Physician': 'Individual Business'\n",
    "                                 \n",
    "                                 })"
   ]
  },
  {
   "cell_type": "code",
   "execution_count": 82,
   "metadata": {
    "scrolled": false
   },
   "outputs": [],
   "source": [
    "#cleaning up data\n",
    "main = main[main['Hospital overall rating'] != \"Not Available\"]"
   ]
  },
  {
   "cell_type": "code",
   "execution_count": 85,
   "metadata": {
    "scrolled": true
   },
   "outputs": [],
   "source": [
    "# removing the dollars sign and turn these two columns to float datatype\n",
    "main[' Average Total Payments '] = main[' Average Total Payments '].str.split('$').apply(lambda x: x[-1])\n",
    "\n",
    "main['Average Medicare Payments'] = main['Average Medicare Payments'].str.split('$').apply(lambda x: x[-1])\n",
    "\n",
    "main[' Average Total Payments '] = pd.to_numeric(main[' Average Total Payments '])\n",
    "main['Average Medicare Payments'] = pd.to_numeric(main['Average Medicare Payments'])\n",
    "main['Hospital overall rating'] = pd.to_numeric(main['Hospital overall rating'])\n",
    "# df.dtypes"
   ]
  },
  {
   "cell_type": "code",
   "execution_count": 86,
   "metadata": {
    "collapsed": true,
    "scrolled": false
   },
   "outputs": [],
   "source": [
    "#Adding a new column \"cost\" this is the amount that patient has to pay\n",
    "main['Cost'] = main[' Average Total Payments '] - main['Average Medicare Payments']"
   ]
  },
  {
   "cell_type": "code",
   "execution_count": 87,
   "metadata": {
    "collapsed": true
   },
   "outputs": [],
   "source": [
    "#clean up and merging with data4\n",
    "main['Provider Id'] = main['Provider Id'] .astype(np.int64)\n",
    "\n",
    "main = pd.merge(main,data4, on = 'Provider Id', how = 'outer')"
   ]
  },
  {
   "cell_type": "code",
   "execution_count": 88,
   "metadata": {
    "collapsed": true
   },
   "outputs": [],
   "source": [
    "#clean up\n",
    "main= main.drop_duplicates()\n",
    "main = main.dropna(how = \"any\") "
   ]
  },
  {
   "cell_type": "code",
   "execution_count": 89,
   "metadata": {
    "scrolled": true
   },
   "outputs": [
    {
     "data": {
      "text/plain": [
       "Provider Id                  0\n",
       "Provider Name                0\n",
       "Provider Street Address      0\n",
       "Provider City                0\n",
       "Provider State               0\n",
       "Provider Zip Code            0\n",
       " Average Total Payments      0\n",
       "Average Medicare Payments    0\n",
       "Hospital Type                0\n",
       "Hospital Ownership           0\n",
       "Hospital overall rating      0\n",
       "BEDS                         0\n",
       "Cost                         0\n",
       "Latitude                     0\n",
       "Longitude                    0\n",
       "dtype: int64"
      ]
     },
     "execution_count": 89,
     "metadata": {},
     "output_type": "execute_result"
    }
   ],
   "source": [
    "main.isnull().sum() # no missing values"
   ]
  },
  {
   "cell_type": "code",
   "execution_count": 90,
   "metadata": {},
   "outputs": [
    {
     "data": {
      "text/plain": [
       "(122231, 15)"
      ]
     },
     "execution_count": 90,
     "metadata": {},
     "output_type": "execute_result"
    }
   ],
   "source": [
    "main.shape"
   ]
  },
  {
   "cell_type": "code",
   "execution_count": 91,
   "metadata": {},
   "outputs": [
    {
     "data": {
      "text/plain": [
       "Provider Id                    int64\n",
       "Provider Name                 object\n",
       "Provider Street Address       object\n",
       "Provider City                 object\n",
       "Provider State                object\n",
       "Provider Zip Code            float64\n",
       " Average Total Payments      float64\n",
       "Average Medicare Payments    float64\n",
       "Hospital Type                 object\n",
       "Hospital Ownership            object\n",
       "Hospital overall rating      float64\n",
       "BEDS                         float64\n",
       "Cost                         float64\n",
       "Latitude                     float64\n",
       "Longitude                    float64\n",
       "dtype: object"
      ]
     },
     "execution_count": 91,
     "metadata": {},
     "output_type": "execute_result"
    }
   ],
   "source": [
    "main.dtypes"
   ]
  },
  {
   "cell_type": "code",
   "execution_count": 92,
   "metadata": {
    "collapsed": true
   },
   "outputs": [],
   "source": [
    "#export the main data \n",
    "main.to_csv(\"main_data.csv\")"
   ]
  },
  {
   "cell_type": "code",
   "execution_count": 93,
   "metadata": {},
   "outputs": [
    {
     "data": {
      "text/plain": [
       "'C:\\\\Users\\\\SSF\\\\Desktop\\\\Group Project 1\\\\awesome_project\\\\MAIN DATA\\\\recipe of main_data'"
      ]
     },
     "execution_count": 93,
     "metadata": {},
     "output_type": "execute_result"
    }
   ],
   "source": [
    "pwd"
   ]
  },
  {
   "cell_type": "code",
   "execution_count": null,
   "metadata": {
    "collapsed": true
   },
   "outputs": [],
   "source": []
  }
 ],
 "metadata": {
  "kernelspec": {
   "display_name": "Python [conda env:PythonData]",
   "language": "python",
   "name": "conda-env-PythonData-py"
  },
  "language_info": {
   "codemirror_mode": {
    "name": "ipython",
    "version": 3
   },
   "file_extension": ".py",
   "mimetype": "text/x-python",
   "name": "python",
   "nbconvert_exporter": "python",
   "pygments_lexer": "ipython3",
   "version": "3.6.3"
  }
 },
 "nbformat": 4,
 "nbformat_minor": 2
}
